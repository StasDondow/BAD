{
 "cells": [
  {
   "cell_type": "code",
   "execution_count": 1,
   "id": "ef2e257f",
   "metadata": {},
   "outputs": [],
   "source": [
    "from main import *"
   ]
  },
  {
   "cell_type": "markdown",
   "id": "883186af",
   "metadata": {},
   "source": [
    "#### read from the file"
   ]
  },
  {
   "cell_type": "code",
   "execution_count": 2,
   "id": "63878cb4",
   "metadata": {},
   "outputs": [
    {
     "name": "stdout",
     "output_type": "stream",
     "text": [
      "How would you like to enter the text?\n",
      "1 - in the colsole\n",
      "2 - read from a file\n",
      "\n",
      "cmd: 2\n",
      "Enter full path to the file: D:\\myFiles\\text.txt\n"
     ]
    }
   ],
   "source": [
    "text = read_input_text()"
   ]
  },
  {
   "cell_type": "code",
   "execution_count": 3,
   "id": "783af42c",
   "metadata": {},
   "outputs": [
    {
     "name": "stdout",
     "output_type": "stream",
     "text": [
      "The Tao gave birth to machine language.  Machine language gave birth\n",
      "to the assembler.\n",
      "The assembler gave birth to the compiler.  Now there are ten thousand\n",
      "languages.\n",
      "Each language has its purpose, however humble.  Each language\n",
      "expresses the Yin and Yang of software.  Each language has its place within\n",
      "the Tao.\n",
      "But do not program in COBOL if you can avoid it.\n",
      "        -- Geoffrey James, \"The Tao of Programming\"\n",
      "\n"
     ]
    }
   ],
   "source": [
    "print(text)"
   ]
  },
  {
   "cell_type": "code",
   "execution_count": 4,
   "id": "10f2561f",
   "metadata": {},
   "outputs": [
    {
     "data": {
      "text/plain": [
       "'m'"
      ]
     },
     "execution_count": 4,
     "metadata": {},
     "output_type": "execute_result"
    }
   ],
   "source": [
    "find_first_unique_char_of_unique_first_chars(text)"
   ]
  },
  {
   "cell_type": "markdown",
   "id": "bb7b94fb",
   "metadata": {},
   "source": [
    "#### read from the console"
   ]
  },
  {
   "cell_type": "code",
   "execution_count": 6,
   "id": "a75765c4",
   "metadata": {},
   "outputs": [
    {
     "name": "stdout",
     "output_type": "stream",
     "text": [
      "How would you like to enter the text?\n",
      "1 - in the colsole\n",
      "2 - read from a file\n",
      "\n",
      "cmd: 1\n",
      "Enter your text:\n",
      "aa cacc bcb\n"
     ]
    }
   ],
   "source": [
    "text2 = read_input_text()"
   ]
  },
  {
   "cell_type": "code",
   "execution_count": 7,
   "id": "488b46ec",
   "metadata": {},
   "outputs": [
    {
     "data": {
      "text/plain": [
       "'a'"
      ]
     },
     "execution_count": 7,
     "metadata": {},
     "output_type": "execute_result"
    }
   ],
   "source": [
    "find_first_unique_char_of_unique_first_chars(text2)"
   ]
  },
  {
   "cell_type": "markdown",
   "id": "bdf74a52",
   "metadata": {},
   "source": [
    "#### additional"
   ]
  },
  {
   "cell_type": "code",
   "execution_count": 8,
   "id": "2c124582",
   "metadata": {},
   "outputs": [
    {
     "data": {
      "text/plain": [
       "'e'"
      ]
     },
     "execution_count": 8,
     "metadata": {},
     "output_type": "execute_result"
    }
   ],
   "source": [
    "text3 = \"C makes it easy for you to shoot yourself in the foot. C++ makes that harder, but when you do, it blows away your whole leg. (с) Bjarne Stroustrup\"\n",
    "find_first_unique_char_of_unique_first_chars(text3)"
   ]
  }
 ],
 "metadata": {
  "kernelspec": {
   "display_name": "Python 3 (ipykernel)",
   "language": "python",
   "name": "python3"
  },
  "language_info": {
   "codemirror_mode": {
    "name": "ipython",
    "version": 3
   },
   "file_extension": ".py",
   "mimetype": "text/x-python",
   "name": "python",
   "nbconvert_exporter": "python",
   "pygments_lexer": "ipython3",
   "version": "3.9.13"
  }
 },
 "nbformat": 4,
 "nbformat_minor": 5
}
